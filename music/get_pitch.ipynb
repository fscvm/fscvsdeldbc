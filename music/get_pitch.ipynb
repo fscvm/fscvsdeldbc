{
 "cells": [
  {
   "cell_type": "code",
   "execution_count": 1,
   "metadata": {},
   "outputs": [],
   "source": [
    "import numpy as np\n",
    "import os\n",
    "import librosa\n",
    "import torch\n",
    "import torchcrepe"
   ]
  },
  {
   "cell_type": "code",
   "execution_count": 2,
   "metadata": {},
   "outputs": [],
   "source": [
    "for instrument in ['piano', 'flute', 'harpsichord', 'string']:\n",
    "    print(instrument)\n",
    "    record_idx = [x.replace('.wav', '') for x in os.listdir('../data/Music/wavs/' + instrument)]\n",
    "    for record_id in record_idx:\n",
    "        audio, _ = librosa.load('../data/Music/wavs/%s/%s.wav' % (instrument, record_id))\n",
    "        audio = torch.from_numpy(audio).float().unsqueeze(0).cuda()\n",
    "        pitch, _ = torchcrepe.predict(audio, sample_rate=22050, hop_length=256, fmin=50, fmax=2000, model='full', \n",
    "                                      decoder=torchcrepe.decode.weighted_argmax, return_periodicity=True, batch_size=2048, device= 'cuda')\n",
    "        pitch_smoothed = torchcrepe.filter.mean(pitch, 11)[:, 2:-1].log()\n",
    "        pitch_smoothed = torchcrepe.filter.mean(pitch_smoothed, 11).squeeze(0).detach().cpu().numpy()\n",
    "        np.save('../data/Music/pitch/%s/%s.npy' % (instrument, record_id), pitch_smoothed)"
   ]
  },
  {
   "cell_type": "code",
   "execution_count": null,
   "metadata": {},
   "outputs": [],
   "source": []
  }
 ],
 "metadata": {
  "kernelspec": {
   "display_name": "Pytorch-1.0.0",
   "language": "python",
   "name": "pytorch-1.0.0"
  },
  "language_info": {
   "codemirror_mode": {
    "name": "ipython",
    "version": 3
   },
   "file_extension": ".py",
   "mimetype": "text/x-python",
   "name": "python",
   "nbconvert_exporter": "python",
   "pygments_lexer": "ipython3",
   "version": "3.6.4"
  }
 },
 "nbformat": 4,
 "nbformat_minor": 4
}
